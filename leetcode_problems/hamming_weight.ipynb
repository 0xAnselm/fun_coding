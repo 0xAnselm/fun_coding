{
 "metadata": {
  "language_info": {
   "codemirror_mode": {
    "name": "ipython",
    "version": 3
   },
   "file_extension": ".py",
   "mimetype": "text/x-python",
   "name": "python",
   "nbconvert_exporter": "python",
   "pygments_lexer": "ipython3",
   "version": "3.9.1-final"
  },
  "orig_nbformat": 2,
  "kernelspec": {
   "name": "python3",
   "display_name": "Python 3",
   "language": "python"
  }
 },
 "nbformat": 4,
 "nbformat_minor": 2,
 "cells": [
  {
   "cell_type": "code",
   "execution_count": null,
   "metadata": {},
   "outputs": [],
   "source": [
    "https://leetcode.com/explore/featured/card/february-leetcoding-challenge-2021/584/week-1-february-1st-february-7th/3625/"
   ]
  },
  {
   "cell_type": "code",
   "execution_count": 15,
   "metadata": {},
   "outputs": [
    {
     "output_type": "stream",
     "name": "stdout",
     "text": [
      "3\n2\n"
     ]
    },
    {
     "output_type": "execute_result",
     "data": {
      "text/plain": [
       "2"
      ]
     },
     "metadata": {},
     "execution_count": 15
    }
   ],
   "source": [
    "\n",
    "\n",
    "class Solution:\n",
    "    def hammingWeight(self, n: int) -> int:\n",
    "        a = int(str(n), 2)\n",
    "        print(a)\n",
    "        a = str(n).count(\"1\")\n",
    "        print(a)\n",
    "        return a\n",
    "\n",
    "\n",
    "a = 0b00000000000000000000000000001011\n",
    "sol = Solution()\n",
    "sol.hammingWeight(a)"
   ]
  },
  {
   "cell_type": "code",
   "execution_count": 76,
   "metadata": {},
   "outputs": [
    {
     "output_type": "stream",
     "name": "stdout",
     "text": [
      "p:= 0.195\nAvg: 0.1941 Error: 0.0009\n"
     ]
    }
   ],
   "source": [
    "import random\n",
    "A = [x for x in range(1,40)]\n",
    "S = [x for x in range(1,201)]\n",
    "p = len(A)/len(S)\n",
    "n = 3500\n",
    "M = 0\n",
    "\n",
    "def montecarlo(n: int) -> int:\n",
    "    Z_i = 0\n",
    "    for i in range(n):\n",
    "        X_i = random.randrange(1,len(S))\n",
    "        if  X_i in A:\n",
    "            Z_i += 1\n",
    "    return Z_i\n",
    "\n",
    "res = []\n",
    "avg = 0\n",
    "runs = 11\n",
    "for i in range(runs):\n",
    "    M = 1/n * montecarlo(n)\n",
    "    res.append(M)\n",
    "    avg += res[-1]\n",
    "print(\"p:=\", p)\n",
    "sol = round(avg / runs, 4)\n",
    "print(\"Avg:\", round(avg / runs, 4), \"Error:\", round(abs(p-sol), 4))"
   ]
  },
  {
   "cell_type": "code",
   "execution_count": null,
   "metadata": {},
   "outputs": [],
   "source": []
  },
  {
   "cell_type": "code",
   "execution_count": null,
   "metadata": {},
   "outputs": [],
   "source": []
  },
  {
   "cell_type": "code",
   "execution_count": null,
   "metadata": {},
   "outputs": [],
   "source": []
  }
 ]
}