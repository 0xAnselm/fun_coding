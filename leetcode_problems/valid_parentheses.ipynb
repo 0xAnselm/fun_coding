{
 "metadata": {
  "language_info": {
   "codemirror_mode": {
    "name": "ipython",
    "version": 3
   },
   "file_extension": ".py",
   "mimetype": "text/x-python",
   "name": "python",
   "nbconvert_exporter": "python",
   "pygments_lexer": "ipython3",
   "version": "3.9.1-final"
  },
  "orig_nbformat": 2,
  "kernelspec": {
   "name": "python3",
   "display_name": "Python 3",
   "language": "python"
  }
 },
 "nbformat": 4,
 "nbformat_minor": 2,
 "cells": [
  {
   "source": [
    "20. Valid Parentheses\n",
    "https://leetcode.com/problems/valid-parentheses/\n"
   ],
   "cell_type": "code",
   "metadata": {},
   "execution_count": null,
   "outputs": []
  },
  {
   "cell_type": "code",
   "execution_count": 64,
   "metadata": {
    "tags": []
   },
   "outputs": [
    {
     "output_type": "execute_result",
     "data": {
      "text/plain": [
       "True"
      ]
     },
     "metadata": {},
     "execution_count": 64
    }
   ],
   "source": [
    "class Solution:\n",
    "    def isValid(self, s: str) -> bool:\n",
    "        if not s:\n",
    "            return False\n",
    "        while \"()\" in s or \"[]\" in s or \"{}\" in s:\n",
    "            s = s.replace(\"()\",\"\")\n",
    "            s = s.replace(\"[]\",\"\")\n",
    "            s = s.replace(\"{}\",\"\")\n",
    "        return not s\n",
    "        \n",
    "\n",
    "sol = Solution()\n",
    "test = [\"()\",\"()[]{}\",\"(]\",\"([)]\",\"{[]}\", \"(}{)\"]\n",
    "sol.isValid(test[4])\n"
   ]
  },
  {
   "cell_type": "code",
   "execution_count": null,
   "metadata": {},
   "outputs": [],
   "source": []
  }
 ]
}