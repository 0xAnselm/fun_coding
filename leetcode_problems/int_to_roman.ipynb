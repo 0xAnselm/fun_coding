{
 "metadata": {
  "language_info": {
   "codemirror_mode": {
    "name": "ipython",
    "version": 3
   },
   "file_extension": ".py",
   "mimetype": "text/x-python",
   "name": "python",
   "nbconvert_exporter": "python",
   "pygments_lexer": "ipython3",
   "version": "3.9.1-final"
  },
  "orig_nbformat": 2,
  "kernelspec": {
   "name": "python3",
   "display_name": "Python 3",
   "language": "python"
  }
 },
 "nbformat": 4,
 "nbformat_minor": 2,
 "cells": [
  {
   "source": [
    "12. Integer to Roman\n",
    "https://leetcode.com/problems/integer-to-roman/"
   ],
   "cell_type": "markdown",
   "metadata": {}
  },
  {
   "cell_type": "code",
   "execution_count": 120,
   "metadata": {},
   "outputs": [
    {
     "output_type": "execute_result",
     "data": {
      "text/plain": [
       "'XLIX'"
      ]
     },
     "metadata": {},
     "execution_count": 120
    }
   ],
   "source": [
    "class Solution:\n",
    "    def intToRoman(self, num: int) -> str:\n",
    "        ints = [1, 4, 5, 9, 10, 40, 50, 90, 100, 400, 500, 900, 1000]\n",
    "        romans = ['I', 'IV', 'V', 'IX', 'X', 'XL', 'L', 'XC', 'C', 'CD', 'D', 'CM', 'M']\n",
    "        out = \"\"\n",
    "        i = len(ints)-1\n",
    "        res = num\n",
    "        while i >= 0 or res != 0:\n",
    "            if res-ints[i] >= 0:\n",
    "                res = res-ints[i]\n",
    "                out = out + romans[i]\n",
    "                i =+ i\n",
    "            else:\n",
    "                i -= 1\n",
    "        return(out)\n",
    "\n",
    "sol = Solution()\n",
    "sol.intToRoman(49)"
   ]
  },
  {
   "cell_type": "code",
   "execution_count": 133,
   "metadata": {},
   "outputs": [
    {
     "output_type": "stream",
     "name": "stdout",
     "text": [
      "M\nM\nM\nM\nMCCC\nMCCC\nMCCC\nMCCC\nMCCCXXX\nMCCCXXX\nMCCCXXXV\nMCCCXXXV\nMCCCXXXVII\n"
     ]
    },
    {
     "output_type": "execute_result",
     "data": {
      "text/plain": [
       "'MCCCXXXVII'"
      ]
     },
     "metadata": {},
     "execution_count": 133
    }
   ],
   "source": [
    "class Solution:\n",
    "    def intToRoman(self, num: int) -> str:\n",
    "        values = [ 1000, 900, 500, 400, 100, 90, 50, 40, 10, 9, 5, 4, 1 ]\n",
    "        numerals = [ \"M\", \"CM\", \"D\", \"CD\", \"C\", \"XC\", \"L\", \"XL\", \"X\", \"IX\", \"V\", \"IV\", \"I\" ]\n",
    "        res = \"\"\n",
    "        for i, v in enumerate(values):\n",
    "            res += (num//v) * numerals[i]\n",
    "            print(res)\n",
    "            num %= v\n",
    "        return res\n",
    "\n",
    "sol = Solution()\n",
    "sol.intToRoman(1337)"
   ]
  },
  {
   "cell_type": "code",
   "execution_count": null,
   "metadata": {},
   "outputs": [],
   "source": []
  }
 ]
}