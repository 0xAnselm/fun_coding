{
 "metadata": {
  "language_info": {
   "codemirror_mode": {
    "name": "ipython",
    "version": 3
   },
   "file_extension": ".py",
   "mimetype": "text/x-python",
   "name": "python",
   "nbconvert_exporter": "python",
   "pygments_lexer": "ipython3",
   "version": "3.9.1-final"
  },
  "orig_nbformat": 2,
  "kernelspec": {
   "name": "python3",
   "display_name": "Python 3",
   "language": "python"
  }
 },
 "nbformat": 4,
 "nbformat_minor": 2,
 "cells": [
  {
   "source": [
    "13. Roman to Integer\n",
    "https://leetcode.com/problems/roman-to-integer\n",
    "\n",
    "Constraints:\n",
    "`1 <= s.length <= 15`\n",
    "s contains only the characters ('I', 'V', 'X', 'L', 'C', 'D', 'M').\n",
    "It is guaranteed that s is a valid roman numeral in the range [1, 3999]."
   ],
   "cell_type": "markdown",
   "metadata": {}
  },
  {
   "cell_type": "code",
   "execution_count": 32,
   "metadata": {},
   "outputs": [],
   "source": [
    "numbers = {\"I\":1, \"V\": 5, \"X\": 10, \"L\": 50, \"C\": 100, \"D\": 500, \"M\": 1000, \n",
    "\"A\": 4,\n",
    "\"B\": 9,\n",
    "\"E\": 40,\n",
    "\"F\": 90,\n",
    "\"G\": 400,\n",
    "\"H\": 900}\n"
   ]
  },
  {
   "cell_type": "code",
   "execution_count": 31,
   "metadata": {},
   "outputs": [],
   "source": [
    "class Solution:\n",
    "    def romanToInt(self, s: str) -> int:\n",
    "        res = 0\n",
    "        s = self.replace(s)\n",
    "        for elem in s:\n",
    "            res = res + numbers[elem]\n",
    "        return (res)\n",
    "\n",
    "    def replace(self, s: str) -> str:\n",
    "        s = s.replace(\"IV\", \"A\") # 4\n",
    "        s = s.replace(\"IX\", \"B\") # 9\n",
    "        s = s.replace(\"XL\", \"E\") # 40\n",
    "        s = s.replace(\"XC\", \"F\") # 90\n",
    "        s = s.replace(\"CD\", \"G\") # 400\n",
    "        s = s.replace(\"CM\", \"H\") # 900\n",
    "        return (s)"
   ]
  },
  {
   "cell_type": "code",
   "execution_count": 36,
   "metadata": {},
   "outputs": [
    {
     "output_type": "execute_result",
     "data": {
      "text/plain": [
       "9"
      ]
     },
     "metadata": {},
     "execution_count": 36
    }
   ],
   "source": [
    "sol = Solution()\n",
    "a = \"III\"\n",
    "b = \"IV\"\n",
    "c = \"IX\"\n",
    "d = \"LVIII\"\n",
    "e = \"MCMXCIV\"\n",
    "sol.romanToInt(c)\n"
   ]
  },
  {
   "cell_type": "code",
   "execution_count": null,
   "metadata": {},
   "outputs": [],
   "source": []
  }
 ]
}