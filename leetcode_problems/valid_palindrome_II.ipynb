{
 "metadata": {
  "language_info": {
   "codemirror_mode": {
    "name": "ipython",
    "version": 3
   },
   "file_extension": ".py",
   "mimetype": "text/x-python",
   "name": "python",
   "nbconvert_exporter": "python",
   "pygments_lexer": "ipython3",
   "version": "3.9.1-final"
  },
  "orig_nbformat": 2,
  "kernelspec": {
   "name": "python3",
   "display_name": "Python 3",
   "language": "python"
  }
 },
 "nbformat": 4,
 "nbformat_minor": 2,
 "cells": [
  {
   "source": [
    "680. Valid Palindrome II\n",
    "https://leetcode.com/problems/valid-palindrome-ii/\n",
    "\n",
    "Given a non-empty string s, you may delete at most one character. Judge whether you can make it a palindrome."
   ],
   "cell_type": "markdown",
   "metadata": {}
  },
  {
   "cell_type": "code",
   "execution_count": 203,
   "metadata": {},
   "outputs": [
    {
     "output_type": "execute_result",
     "data": {
      "text/plain": [
       "False"
      ]
     },
     "metadata": {},
     "execution_count": 203
    }
   ],
   "source": [
    "class Solution:\n",
    "    def validPalindrome(self, s):\n",
    "        i = 0\n",
    "        while i < len(s) / 2 and s[i] == s[-(i + 1)]: i += 1\n",
    "        s = s[i:len(s) - i]\n",
    "        return s[1:] == s[1:][::-1] or s[:-1] == s[:-1][::-1]\n",
    "\n",
    "s = \"abc\"\n",
    "sol = Solution()\n",
    "sol.validPalindrome(s)\n"
   ]
  },
  {
   "cell_type": "code",
   "execution_count": null,
   "metadata": {},
   "outputs": [],
   "source": [
    "class Solution:\n",
    "    def validPalindrome(self, s: str) -> bool:\n",
    "        self.s = s\n",
    "        return self.checker(s, 0, len(s)-1, 0)\n",
    "\n",
    "    def checker(self, s, i, j, strike):\n",
    "        print(s, i, j, s[i] == s[j], \"strike:\", strike)\n",
    "        if j <= i:\n",
    "            print(\"Pointer overrun\")\n",
    "            return True\n",
    "        elif s[i] != s[j] and strike < 2:\n",
    "            self.checker(s, i+1, j-1, strike+1)\n",
    "        elif (s[i] == s[j]):\n",
    "            self.checker(s, i+1, j-1, 0)\n",
    "        elif strike > 1:\n",
    "            return False\n"
   ]
  }
 ]
}