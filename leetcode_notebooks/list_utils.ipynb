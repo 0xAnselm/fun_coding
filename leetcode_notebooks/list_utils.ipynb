{
 "metadata": {
  "language_info": {
   "codemirror_mode": {
    "name": "ipython",
    "version": 3
   },
   "file_extension": ".py",
   "mimetype": "text/x-python",
   "name": "python",
   "nbconvert_exporter": "python",
   "pygments_lexer": "ipython3",
   "version": "3.9.1-final"
  },
  "orig_nbformat": 2,
  "kernelspec": {
   "name": "python3",
   "display_name": "Python 3.9.1 64-bit",
   "metadata": {
    "interpreter": {
     "hash": "767d51c1340bd893661ea55ea3124f6de3c7a262a8b4abca0554b478b1e2ff90"
    }
   }
  }
 },
 "nbformat": 4,
 "nbformat_minor": 2,
 "cells": [
  {
   "cell_type": "code",
   "execution_count": 2,
   "metadata": {},
   "outputs": [],
   "source": [
    "# Definition for singly-linked list.\n",
    "class ListNode:\n",
    "    def __init__(self, val=0, next=None):\n",
    "        self.val = val\n",
    "        self.next = next\n",
    "\n",
    "class List:\n",
    "    def __init__(self, number):\n",
    "        self.number = number\n",
    "        self.head = self.generateList(self.number)\n",
    "\n",
    "    def printList(self) -> None:\n",
    "        res = \"List: \"\n",
    "        elem = self.head\n",
    "        while elem.next is not None:\n",
    "            res = res + str(elem.val) + \"->\"\n",
    "            elem = elem.next\n",
    "        res = res + \"NULL\"\n",
    "        print(res)\n",
    "\n",
    "    def generateList(self, number):\n",
    "        number = list(map(int, str(abs(number))))\n",
    "        tempList = []\n",
    "        for digit in number:\n",
    "            tempList.append(ListNode(digit))\n",
    "        tempList.append(ListNode(18000)) # TailElement\n",
    "        for i in range(len(tempList)-1):\n",
    "            tempList[i].next = tempList[i+1]\n",
    "        return (tempList[0])\n",
    "\n",
    "    def getHead(self) -> ListNode:\n",
    "        return self.head\n",
    "         \n",
    "\n",
    "class Solution:\n",
    "    def reverseList(self, head: ListNode) -> ListNode:\n",
    "        pass"
   ]
  },
  {
   "cell_type": "code",
   "execution_count": 3,
   "metadata": {},
   "outputs": [
    {
     "output_type": "stream",
     "name": "stdout",
     "text": [
      "List: 1->2->3->NULL\nList: 4->5->6->NULL\n<__main__.List object at 0x7fcb26d8bf40>\n"
     ]
    }
   ],
   "source": [
    "l1 = List(123)\n",
    "l2 = List(-456)\n",
    "l1.printList()\n",
    "l2.printList()\n",
    "print(l1)"
   ]
  },
  {
   "cell_type": "code",
   "execution_count": null,
   "metadata": {},
   "outputs": [],
   "source": []
  },
  {
   "cell_type": "code",
   "execution_count": null,
   "metadata": {},
   "outputs": [],
   "source": []
  }
 ]
}