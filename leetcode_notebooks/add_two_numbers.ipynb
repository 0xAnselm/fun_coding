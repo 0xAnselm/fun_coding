{
 "metadata": {
  "language_info": {
   "codemirror_mode": {
    "name": "ipython",
    "version": 3
   },
   "file_extension": ".py",
   "mimetype": "text/x-python",
   "name": "python",
   "nbconvert_exporter": "python",
   "pygments_lexer": "ipython3",
   "version": "3.9.1-final"
  },
  "orig_nbformat": 2,
  "kernelspec": {
   "name": "python3",
   "display_name": "Python 3",
   "language": "python"
  }
 },
 "nbformat": 4,
 "nbformat_minor": 2,
 "cells": [
  {
   "source": [
    "2. Add Two Numbers\n",
    "https://leetcode.com/problems/add-two-numbers/"
   ],
   "cell_type": "markdown",
   "metadata": {}
  },
  {
   "cell_type": "code",
   "execution_count": null,
   "metadata": {},
   "outputs": [],
   "source": []
  },
  {
   "cell_type": "code",
   "execution_count": 23,
   "metadata": {
    "tags": []
   },
   "outputs": [
    {
     "output_type": "stream",
     "name": "stdout",
     "text": [
      "0 0\n8 1\n0 1\n1 1\n[9, 9, 9, 0]\n[1, 9, 0, 0]\n"
     ]
    }
   ],
   "source": [
    "# Definition for singly-linked list.\n",
    "class ListNode:\n",
    "     def __init__(self, val=0, next=None):\n",
    "         self.val = val\n",
    "         self.next = next\n",
    "\n",
    "class Solution:\n",
    "    def addTwoNumbers(self, l1: ListNode, l2: ListNode) -> ListNode:\n",
    "        carry = [0]\n",
    "        l1_p = []\n",
    "        l2_p = []\n",
    "        i = 0\n",
    "        while l1 or l2 or carry[i]:\n",
    "            s_i1 = l1.val if l1 else 0\n",
    "            s_i2 = l2.val if l2 else 0\n",
    "            s_i = (s_i1 + s_i2 + carry[i-1])%10\n",
    "            carry.append((s_i1 + s_i2 + carry[i-1]) // 10)\n",
    "            l1_p.append(s_i1)\n",
    "            l2_p.append(s_i2)\n",
    "            print(s_i, carry[i])\n",
    "            l1 = l1.next if l1 else None\n",
    "            l2 = l2.next if l2 else None\n",
    "            i += 1\n",
    "        print(l1_p)\n",
    "        print(l2_p)  \n",
    "\n",
    "sol = Solution()\n",
    "a0 = ListNode(9, ListNode(9, ListNode(9)))\n",
    "b0 = ListNode(1, ListNode(9))\n",
    "\n",
    "#l1 = ListNode{val: 2, next: ListNode{val: 4, next: ListNode{val: 3, next: None}}}\n",
    "#l2 = ListNode{val: 2, next: ListNode{val: 4, next: ListNode{val: 3, next: None}}}\n",
    "\n",
    "a = sol.addTwoNumbers(a0, b0)"
   ]
  },
  {
   "cell_type": "code",
   "execution_count": 140,
   "metadata": {},
   "outputs": [
    {
     "output_type": "execute_result",
     "data": {
      "text/plain": [
       "<__main__.ListNode at 0x7f696c1ae1f0>"
      ]
     },
     "metadata": {},
     "execution_count": 140
    }
   ],
   "source": [
    "# Definition for singly-linked list.\n",
    "# class ListNode(object):\n",
    "#     def __init__(self, x):\n",
    "#         self.val = x\n",
    "#         self.next = None\n",
    "\n",
    "class Solution(object):\n",
    "    def addTwoNumbers(self, l1, l2):\n",
    "        \"\"\"\n",
    "        :type l1: ListNode\n",
    "        :type l2: ListNode\n",
    "        :rtype: ListNode\n",
    "        \"\"\"\n",
    "        result = ListNode(0)\n",
    "        result_tail = result\n",
    "        carry = 0\n",
    "                \n",
    "        while l1 or l2 or carry:            \n",
    "            val1  = (l1.val if l1 else 0)\n",
    "            val2  = (l2.val if l2 else 0)\n",
    "            carry, out = divmod(val1+val2 + carry, 10)    \n",
    "                      \n",
    "            result_tail.next = ListNode(out)\n",
    "            result_tail = result_tail.next                      \n",
    "            \n",
    "            l1 = (l1.next if l1 else None)\n",
    "            l2 = (l2.next if l2 else None)\n",
    "               \n",
    "        return result.next\n",
    "\n",
    "sol = Solution()\n",
    "l1 = ListNode(5, ListNode(6))\n",
    "l2 = ListNode(9, ListNode(9))\n",
    "sol.addTwoNumbers(l1,l2)"
   ]
  },
  {
   "cell_type": "code",
   "execution_count": null,
   "metadata": {},
   "outputs": [],
   "source": [
    "TypeError: [ListNode{val: 7, next: ListNode{val: 0, next: ListNode{val: 8, next: None}}}, ListNode{val: 0, next: ListNode{val: 8, next: None}}, ListNode{val: 8, next: None}] is not valid value for the expected return type ListNode\n",
    "    raise TypeError(str(ret) + \" is not valid value for the expected return type ListNode\");\n",
    "Line 61 in _driver (Solution.py)\n",
    "    _driver()\n",
    "Line 68 in <module> (Solution.py)\n",
    "During handling of the above exception, another exception occurred:\n",
    "TypeError: unhashable type: 'list'\n",
    "Line 40 in has_cycle (./python3/listnode.py)\n",
    "Line 53 in serialize (./python3/listnode.py)\n",
    "Line 67 in _serialize (./python3/__serializer__.py)\n",
    "    out = ser._serialize(ret, 'ListNode')\n",
    "Line 59 in _driver (Solution.py)"
   ]
  }
 ]
}