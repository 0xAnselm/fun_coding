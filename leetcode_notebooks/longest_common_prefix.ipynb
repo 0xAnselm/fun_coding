{
 "metadata": {
  "language_info": {
   "codemirror_mode": {
    "name": "ipython",
    "version": 3
   },
   "file_extension": ".py",
   "mimetype": "text/x-python",
   "name": "python",
   "nbconvert_exporter": "python",
   "pygments_lexer": "ipython3",
   "version": "3.9.1-final"
  },
  "orig_nbformat": 2,
  "kernelspec": {
   "name": "python3",
   "display_name": "Python 3",
   "language": "python"
  }
 },
 "nbformat": 4,
 "nbformat_minor": 2,
 "cells": [
  {
   "source": [
    "14. Longest Common Prefix\n",
    "https://leetcode.com/problems/longest-common-prefix/"
   ],
   "cell_type": "markdown",
   "metadata": {}
  },
  {
   "cell_type": "code",
   "execution_count": 152,
   "metadata": {},
   "outputs": [
    {
     "output_type": "execute_result",
     "data": {
      "text/plain": [
       "'fl'"
      ]
     },
     "metadata": {},
     "execution_count": 152
    }
   ],
   "source": [
    "class Solution:\n",
    "    def longestCommonPrefix(self, strs) -> str:\n",
    "        l = list(zip(*strs))\n",
    "        res = []\n",
    "        num = []\n",
    "        for i in range(len(l)):\n",
    "            if (len(set(l[i])) == 1):\n",
    "                res.append(l[i][0])\n",
    "                num.append(i)\n",
    "        stack = [(0,0)]\n",
    "        c = 1\n",
    "        for i in range(0, len(num)-1):\n",
    "            for j in range(i+1, len(num)):\n",
    "                if num[i]+c == num[j]:\n",
    "                    c += 1\n",
    "                    if (j-i > stack[-1][1]-stack[-1][0]):\n",
    "                        stack.append((i,j))\n",
    "                else:\n",
    "                    i += 1\n",
    "                    c = 1\n",
    "        start = stack[-1][0]\n",
    "        end = stack[-1][1]+1\n",
    "        return(''.join(res[start:end]))\n",
    "\n",
    "strs1 = [\"flower\",\"flow\",\"flight\"]\n",
    "strs2 = [\"dog\",\"racecar\",\"car\"]\n",
    "strs3 = [\"cir\",\"car\"]\n",
    "strs4 = [\"aaazbbbb\",\"aaarbbbb\",\"aaapbbbb\"]\n",
    "sol = Solution()\n",
    "sol.longestCommonPrefix(strs1)"
   ]
  },
  {
   "cell_type": "code",
   "execution_count": null,
   "metadata": {},
   "outputs": [],
   "source": []
  }
 ]
}